{
  "nbformat": 4,
  "nbformat_minor": 0,
  "metadata": {
    "colab": {
      "provenance": [],
      "authorship_tag": "ABX9TyMaTwHEcm2XMratK8hMEYUg",
      "include_colab_link": true
    },
    "kernelspec": {
      "name": "python3",
      "display_name": "Python 3"
    },
    "language_info": {
      "name": "python"
    }
  },
  "cells": [
    {
      "cell_type": "markdown",
      "metadata": {
        "id": "view-in-github",
        "colab_type": "text"
      },
      "source": [
        "<a href=\"https://colab.research.google.com/github/ShiomaraBrandy/G4-github-desktop/blob/main/clase1_.ipynb\" target=\"_parent\"><img src=\"https://colab.research.google.com/assets/colab-badge.svg\" alt=\"Open In Colab\"/></a>"
      ]
    },
    {
      "cell_type": "markdown",
      "source": [
        "# mi primera sesion de python"
      ],
      "metadata": {
        "id": "8sqbPn446glU"
      }
    },
    {
      "cell_type": "code",
      "execution_count": 5,
      "metadata": {
        "colab": {
          "base_uri": "https://localhost:8080/",
          "height": 0
        },
        "id": "l6Ue2aazmfBR",
        "outputId": "16792c62-de82-4310-afb8-b89d9165be5e"
      },
      "outputs": [
        {
          "output_type": "stream",
          "name": "stdout",
          "text": [
            "Hola mundo\n",
            "Hola mundo\n"
          ]
        }
      ],
      "source": [
        "print(\"Hola mundo\")\n",
        "print(f\"Hola mundo\")\n",
        "x = 4\n",
        "y = 4.5\n",
        "z = \"Hola\"\n",
        "w = 4 + 5j\n",
        "t = True"
      ]
    },
    {
      "cell_type": "code",
      "source": [
        "# forma clasica, no elegante, menos util\n",
        "print(\"x =\", x, \"y = \", y)"
      ],
      "metadata": {
        "colab": {
          "base_uri": "https://localhost:8080/"
        },
        "id": "Hp0AnocYOm2W",
        "outputId": "79c0a766-af82-44b3-a134-6675f4655c95"
      },
      "execution_count": null,
      "outputs": [
        {
          "output_type": "stream",
          "name": "stdout",
          "text": [
            "x = 4 y =  4.5\n"
          ]
        }
      ]
    },
    {
      "cell_type": "code",
      "source": [
        "#forma mas elegante y util\n",
        "print(f\"x = {x}, y = {y}, z = {z}, w = {w}, t = {t}\")"
      ],
      "metadata": {
        "colab": {
          "base_uri": "https://localhost:8080/"
        },
        "id": "0aDf31XIOpfW",
        "outputId": "0281802a-f0ab-4bae-f674-18b32ea90c8e"
      },
      "execution_count": null,
      "outputs": [
        {
          "output_type": "stream",
          "name": "stdout",
          "text": [
            "x = 4, y = 4.5, z = Hola, w = (4+5j), t = True\n"
          ]
        }
      ]
    },
    {
      "cell_type": "code",
      "source": [
        "#/n indica un salto de nueva linea\n",
        "print(f\"x = {x},\\ny = {y},\\nz = {z},\\nw = {w},\\nt = {t}\")\n",
        "# \\n \\t  .... backslash"
      ],
      "metadata": {
        "colab": {
          "base_uri": "https://localhost:8080/",
          "height": 0
        },
        "id": "kyGSKdJ-Os6D",
        "outputId": "69cfc91e-c679-47e4-c0af-9358f644f443"
      },
      "execution_count": 3,
      "outputs": [
        {
          "output_type": "stream",
          "name": "stdout",
          "text": [
            "x = 4,\n",
            "y = 4.5,\n",
            "z = Hola,\n",
            "w = (4+5j),\n",
            "t = True\n"
          ]
        }
      ]
    },
    {
      "cell_type": "code",
      "source": [
        "#si quiero que se vea el salto de linea pero sin comando especial /t o /n, solo escribe con triple comilla y de frente con salto.\n",
        "print(f\"\"\"x = {x},\n",
        "y = {y},\n",
        "z = {z},\n",
        "w = {w},\n",
        "t = {t}\"\"\")"
      ],
      "metadata": {
        "colab": {
          "base_uri": "https://localhost:8080/"
        },
        "id": "ZiWvGCe0Oxi7",
        "outputId": "1d6b1477-84b8-49dc-ebb0-9de9b5eee96e"
      },
      "execution_count": null,
      "outputs": [
        {
          "output_type": "stream",
          "name": "stdout",
          "text": [
            "x = 4,\n",
            "y = 4.5,\n",
            "z = Hola,\n",
            "w = (4+5j),\n",
            "t = True\n"
          ]
        }
      ]
    },
    {
      "cell_type": "markdown",
      "source": [
        "Notas:\n",
        "- ctrl + { para poner y quitar comentarios.\n",
        "- con el f le damos formato"
      ],
      "metadata": {
        "id": "-jvBwABZ8Cfb"
      }
    }
  ]
}
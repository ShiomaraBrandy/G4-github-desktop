{
  "nbformat": 4,
  "nbformat_minor": 0,
  "metadata": {
    "colab": {
      "provenance": [],
      "include_colab_link": true
    },
    "kernelspec": {
      "name": "python3",
      "display_name": "Python 3"
    },
    "language_info": {
      "name": "python"
    }
  },
  "cells": [
    {
      "cell_type": "markdown",
      "metadata": {
        "id": "view-in-github",
        "colab_type": "text"
      },
      "source": [
        "<a href=\"https://colab.research.google.com/github/ShiomaraBrandy/G4-github-desktop/blob/main/clase1_material_para_practicar.ipynb\" target=\"_parent\"><img src=\"https://colab.research.google.com/assets/colab-badge.svg\" alt=\"Open In Colab\"/></a>"
      ]
    },
    {
      "cell_type": "markdown",
      "source": [
        "# Ejemplos Básicos de Presentación en Python\n",
        "\n",
        "Estos ejemplos demuestran técnicas básicas pero efectivas para presentar datos en Python, sin utilizar módulos externos. Son particularmente útiles en ciencia de datos para mostrar resultados de manera clara y concisa."
      ],
      "metadata": {
        "id": "ZeVNDLpuSYNG"
      }
    },
    {
      "cell_type": "markdown",
      "source": [
        "# 1. Formateo de Strings Básico"
      ],
      "metadata": {
        "id": "vaUPdhoEStxo"
      }
    },
    {
      "cell_type": "code",
      "source": [],
      "metadata": {
        "id": "mpz4SUHplm-M"
      },
      "execution_count": null,
      "outputs": []
    },
    {
      "cell_type": "code",
      "execution_count": null,
      "metadata": {
        "colab": {
          "base_uri": "https://localhost:8080/"
        },
        "id": "6REJXe5V0anO",
        "outputId": "54074617-7558-4c3a-e57f-56f29eb1c7c3"
      },
      "outputs": [
        {
          "output_type": "stream",
          "name": "stdout",
          "text": [
            "Nombre: Alice Edad: 30\n",
            "Nombre: Alice, Edad: 30\n",
            "Nombre: Alice, Edad: 30\n",
            "Nombre: Alice, Edad: 30\n"
          ]
        }
      ],
      "source": [
        "# Usando f-strings (Python 3.6+)\n",
        "nombre = \"Alice\"\n",
        "edad = 30\n",
        "\n",
        "# forma clasica\n",
        "print(\"Nombre:\", nombre, \"Edad:\", edad)\n",
        "\n",
        "#forma moderna\n",
        "print(f\"Nombre: {nombre}, Edad: {edad}\")\n",
        "\n",
        "# Usando el método format()\n",
        "print(\"Nombre: {}, Edad: {}\".format(nombre, edad))\n",
        "\n",
        "# Usando % (estilo antiguo, pero aún utilizado)\n",
        "print(\"Nombre: %s, Edad: %d\" % (nombre, edad))"
      ]
    },
    {
      "cell_type": "markdown",
      "source": [
        "# 2. Alineación y Relleno de Texto"
      ],
      "metadata": {
        "id": "IY5Gwiq1Sq8T"
      }
    },
    {
      "cell_type": "code",
      "source": [
        "# Alineación a la derecha con relleno de espacios\n",
        "print(f\"{'Nombre':<10}|{'Edad':>5}\") #la separacion es menor a 10 en derecha y mayor a 5 en izquierda\n",
        "print(f\"{'Alice':<10}|{30:>5}\")\n",
        "print(f\"{'Bob':<10}|{25:>5}\")\n",
        "\n",
        "# Salida:\n",
        "# Nombre     | Edad\n",
        "# Alice      |   30\n",
        "# Bob        |   25"
      ],
      "metadata": {
        "colab": {
          "base_uri": "https://localhost:8080/"
        },
        "id": "GpWjZu_YSwmu",
        "outputId": "1f1ddb65-a375-4cb1-e643-8f5c50db65ea"
      },
      "execution_count": null,
      "outputs": [
        {
          "output_type": "stream",
          "name": "stdout",
          "text": [
            "Nombre    | Edad\n",
            "Alice     |   30\n",
            "Bob       |   25\n"
          ]
        }
      ]
    },
    {
      "cell_type": "markdown",
      "source": [
        "# 3. Formateo de Números"
      ],
      "metadata": {
        "id": "dip1vSqQS1lz"
      }
    },
    {
      "cell_type": "code",
      "source": [
        "pi = 3.14159265359\n",
        "print(pi)\n",
        "\n",
        "# Redondeo a 2 decimales\n",
        "print(f\"Pi redondeado a 2 decimales: {pi:.3f}\")\n",
        "# obten 3.1415\n",
        "#usando .float\n",
        "print(f\"pi redondeado a 4 decimales: {pi:.4f}\")\n",
        "# usando round(3.1415,3) no es bueno..\n",
        "round(3.1415,3)"
      ],
      "metadata": {
        "colab": {
          "base_uri": "https://localhost:8080/"
        },
        "id": "RM0A-KuWS2kI",
        "outputId": "5df76f44-b28d-4636-aac0-eae0da071147"
      },
      "execution_count": null,
      "outputs": [
        {
          "output_type": "stream",
          "name": "stdout",
          "text": [
            "3.14159265359\n",
            "Pi redondeado a 2 decimales: 3.142\n",
            "pi redondeado a 4 decimales: 3.1416\n"
          ]
        },
        {
          "output_type": "execute_result",
          "data": {
            "text/plain": [
              "3.142"
            ]
          },
          "metadata": {},
          "execution_count": 25
        }
      ]
    },
    {
      "cell_type": "code",
      "source": [
        "# Notación científica\n",
        "print(f\"Pi en notación científica: {pi:e}\")\n",
        "\n",
        "# Porcentaje\n",
        "porcentaje = 0.75432\n",
        "print(f\"Porcentaje: {porcentaje:.2%}\")"
      ],
      "metadata": {
        "id": "kfauNFgqM9IS"
      },
      "execution_count": null,
      "outputs": []
    },
    {
      "cell_type": "markdown",
      "source": [
        "# 4. Tablas Simples"
      ],
      "metadata": {
        "id": "6r7WXuTAS7rZ"
      }
    },
    {
      "cell_type": "code",
      "source": [
        "print(\"a\"*10) # repetir la cadena 10 veces\n",
        "print(\"a\"+\"b\") #concatenacion\n",
        "print('a'+'b'+\"c\")  #concatenacion\n",
        "print(\"'a'+'b'+'c'\")\n",
        "print(\"'a'+'b'\")\n",
        "print('\"a\"+\"b\"')"
      ],
      "metadata": {
        "colab": {
          "base_uri": "https://localhost:8080/"
        },
        "id": "cpq7ycHkKtQZ",
        "outputId": "0c8c9ace-116f-4c2a-9979-a9296249f08e"
      },
      "execution_count": null,
      "outputs": [
        {
          "output_type": "stream",
          "name": "stdout",
          "text": [
            "aaaaaaaaaa\n",
            "ab\n",
            "abc\n",
            "'a'+'b'+'c'\n",
            "'a'+'b'\n",
            "\"a\"+\"b\"\n"
          ]
        }
      ]
    },
    {
      "cell_type": "code",
      "source": [
        "datos = [\n",
        "    (\"Manzanas\", 50, 0.5, 3),\n",
        "    (\"Peras\", 30, 0.75, 1),\n",
        "    (\"Naranjas\", 40, 0.6, 2)\n",
        "]\n",
        "\n",
        "print(f\"{'Producto':<10}{'Cantidad':>10}{'Precio':>10}{'kg':>10}\")\n",
        "print(\"-\" * 40)\n",
        "for producto, cantidad, precio, kg in datos:\n",
        "    print(f\"{producto:<10}{cantidad:>10}{precio:>10.2f}{kg:>10}\")\n",
        "\n",
        "# Salida:\n",
        "# Producto   Cantidad    Precio\n",
        "# ------------------------------\n",
        "# Manzanas        50      0.50\n",
        "# Peras           30      0.75\n",
        "# Naranjas        40      0.60"
      ],
      "metadata": {
        "colab": {
          "base_uri": "https://localhost:8080/"
        },
        "id": "gq3anU-GS2mv",
        "outputId": "20856c2f-efc3-4ffc-efa4-7c9be3990996"
      },
      "execution_count": null,
      "outputs": [
        {
          "output_type": "stream",
          "name": "stdout",
          "text": [
            "Producto    Cantidad    Precio        kg\n",
            "----------------------------------------\n",
            "Manzanas          50      0.50         3\n",
            "Peras             30      0.75         1\n",
            "Naranjas          40      0.60         2\n"
          ]
        }
      ]
    },
    {
      "cell_type": "markdown",
      "source": [
        "# Ejemplos Básicos de Variables y su Presentación en Python\n",
        "\n",
        "Estos ejemplos demuestran el uso básico de diferentes tipos de variables en Python y cómo presentarlas de manera efectiva, sin utilizar módulos externos."
      ],
      "metadata": {
        "id": "95P2RQgAIVDU"
      }
    },
    {
      "cell_type": "markdown",
      "source": [
        "# 1. Variables Numéricas"
      ],
      "metadata": {
        "id": "XSJky2IETnWA"
      }
    },
    {
      "cell_type": "code",
      "source": [
        "# Enteros\n",
        "edad = 30\n",
        "cantidad_productos = 100\n",
        "\n",
        "# Flotantes\n",
        "precio = 19.99\n",
        "pi = 3.14159\n",
        "\n",
        "# Presentación básica\n",
        "print(f\"Edad: {edad}\")\n",
        "print(f\"Cantidad de productos: {cantidad_productos}\")\n",
        "print(f\"Precio: ${precio:.2f}\") #precio con 2 floats o decimales\n",
        "print(f\"Valor de Pi: {pi:.5f}\") #pi con 5 floats\n",
        "\n",
        "# Salida:\n",
        "# Edad: 30\n",
        "# Cantidad de productos: 100\n",
        "# Precio: $19.99\n",
        "# Valor de Pi: 3.14159"
      ],
      "metadata": {
        "colab": {
          "base_uri": "https://localhost:8080/"
        },
        "id": "i1kG3TwvIh6u",
        "outputId": "e68e5630-1d32-49c0-a06a-183919adf885"
      },
      "execution_count": null,
      "outputs": [
        {
          "output_type": "stream",
          "name": "stdout",
          "text": [
            "Edad: 30\n",
            "Cantidad de productos: 100\n",
            "Precio: $19.99\n",
            "Valor de Pi: 3.14159\n"
          ]
        }
      ]
    },
    {
      "cell_type": "markdown",
      "source": [
        "### **2. Variables de Texto (Strings)**"
      ],
      "metadata": {
        "id": "czl7UY2iTxKq"
      }
    },
    {
      "cell_type": "code",
      "source": [
        "nombre = \"Alice\"\n",
        "apellido = \"Smith\"\n",
        "mensaje = \"Bienvenido a Python\"\n",
        "\n",
        "# Concatenación y presentación\n",
        "nombre_completo = nombre + \" \" + apellido\n",
        "print(f\"Nombre completo: {nombre_completo}\")\n",
        "print(f\"Mensaje: {mensaje}\")\n",
        "print(f\"Longitud del mensaje: {len(mensaje)} caracteres\")\n",
        "#Len es una funcion nativa de python\n",
        "# Salida:\n",
        "# Nombre completo: Alice Smith\n",
        "# Mensaje: Bienvenido a Python\n",
        "# Longitud del mensaje: 20 caracteres"
      ],
      "metadata": {
        "colab": {
          "base_uri": "https://localhost:8080/"
        },
        "id": "WsBTfcAgJ92O",
        "outputId": "3f04758e-7ec0-4c37-f4c8-89fc4c709c33"
      },
      "execution_count": null,
      "outputs": [
        {
          "output_type": "stream",
          "name": "stdout",
          "text": [
            "Nombre completo: Alice Smith\n",
            "Mensaje: Bienvenido a Python\n",
            "Longitud del mensaje: 19 caracteres\n"
          ]
        }
      ]
    },
    {
      "cell_type": "markdown",
      "source": [
        "# 3. Listas"
      ],
      "metadata": {
        "id": "xBhOcQosT2k9"
      }
    },
    {
      "cell_type": "code",
      "source": [
        "frutas = [\"manzana\", \"banana\", \"cereza\", \"durazno\"]\n",
        "numeros = [1, 2, 3, 4, 5]\n",
        "\n",
        "# Presentación de listas\n",
        "print(\"Lista de frutas:\")\n",
        "print(f\"fruta[0] = {frutas[0]}\")\n",
        "print(f\"fruta[1] = {frutas[1]}\")\n",
        "print(f\"fruta[2] = {frutas[2]}\")\n",
        "print(f\"fruta[3] = {frutas[3]}\")\n",
        "\n",
        "print(\"\\nNúmeros y sus cuadrados:\")\n",
        "print(f\"numeros[0]^2 =  {numeros[0]**2}\")\n",
        "print(f\"numeros[1]^2 =  {numeros[1]**2}\")\n",
        "print(f\"numeros[2]^2 =  {numeros[2]**2}\")\n",
        "print(f\"numeros[3]^2 =  {numeros[3]**2}\")\n",
        "print(f\"numeros[4]^2 =  {numeros[4]**2}\")\n",
        "\n",
        "# Salida:\n",
        "# Lista de frutas:\n",
        "# fruta[0] = manzana\n",
        "# fruta[1] = banana\n",
        "# fruta[2] = cereza\n",
        "# fruta[3] = durazno\n",
        "#\n",
        "# Números y sus cuadrados:\n",
        "# numeros[0]^2 =  1\n",
        "# numeros[1]^2 =  4\n",
        "# numeros[2]^2 =  9\n",
        "# numeros[3]^2 =  16\n",
        "# numeros[4]^2 =  25"
      ],
      "metadata": {
        "colab": {
          "base_uri": "https://localhost:8080/"
        },
        "id": "_2MwJ8rNKUIu",
        "outputId": "18a7df54-7875-4018-8ae9-7173f6ce6b5f"
      },
      "execution_count": null,
      "outputs": [
        {
          "output_type": "stream",
          "name": "stdout",
          "text": [
            "Lista de frutas:\n",
            "fruta[0] = manzana\n",
            "fruta[1] = banana\n",
            "fruta[2] = cereza\n",
            "fruta[3] = durazno\n",
            "\n",
            "Números y sus cuadrados:\n",
            "numeros[0]^2 =  1\n",
            "numeros[1]^2 =  4\n",
            "numeros[2]^2 =  9\n",
            "numeros[3]^2 =  16\n",
            "numeros[4]^2 =  25\n"
          ]
        }
      ]
    },
    {
      "cell_type": "markdown",
      "source": [
        "# 4. Diccionarios"
      ],
      "metadata": {
        "id": "-r2YzDEgT80P"
      }
    },
    {
      "cell_type": "code",
      "source": [
        "persona = {\n",
        "    \"nombre\": \"Bob\",\n",
        "    \"edad\": 35,\n",
        "    \"ciudad\": \"Nueva York\",\n",
        "    \"profesion\": \"Ingeniero\"\n",
        "}\n",
        "\n",
        "# Presentación de diccionarios\n",
        "print(\"Información de la persona:\")\n",
        "print(f\"\"\" nombre: { persona['nombre']},\n",
        " edad: { persona['edad']},\n",
        " ciudad: { persona['ciudad']},\n",
        " profesion: { persona['profesion']}\"\"\")\n",
        "\n",
        "# Salida:\n",
        "# Información de la persona:\n",
        "#   Nombre: Bob\n",
        "#   Edad: 35\n",
        "#   Ciudad: Nueva York\n",
        "#   Profesion: Ingeniero"
      ],
      "metadata": {
        "colab": {
          "base_uri": "https://localhost:8080/"
        },
        "id": "kOA-9oTGKnVl",
        "outputId": "a41cb5af-4a2a-42a0-a225-1da457fdbd68"
      },
      "execution_count": null,
      "outputs": [
        {
          "output_type": "stream",
          "name": "stdout",
          "text": [
            "Información de la persona:\n",
            " nombre: Bob, \n",
            " edad: 35,\n",
            " ciudad: Nueva York, \n",
            " profesion: Ingeniero\n"
          ]
        }
      ]
    },
    {
      "cell_type": "markdown",
      "source": [
        "#5. Variables Booleanas"
      ],
      "metadata": {
        "id": "6hI66DilVk8h"
      }
    },
    {
      "cell_type": "code",
      "source": [
        "es_estudiante = True\n",
        "tiene_descuento = False\n",
        "\n",
        "# Presentación de booleanos\n",
        "print(f\"¿Es estudiante? {es_estudiante}\")\n",
        "print(f\"¿Tiene descuento? {tiene_descuento}\")\n",
        "\n",
        "# Salida:\n",
        "# ¿Es estudiante? Sí\n",
        "# ¿Tiene descuento? No"
      ],
      "metadata": {
        "colab": {
          "base_uri": "https://localhost:8080/"
        },
        "id": "jUjDJCCWMU6N",
        "outputId": "c7ee69c7-0940-4fc3-c4fd-9c12c04b673b"
      },
      "execution_count": null,
      "outputs": [
        {
          "output_type": "stream",
          "name": "stdout",
          "text": [
            "¿Es estudiante? True\n",
            "¿Tiene descuento? False\n"
          ]
        }
      ]
    },
    {
      "cell_type": "markdown",
      "source": [
        "#6. Tuplas"
      ],
      "metadata": {
        "id": "k87tgISZV0n6"
      }
    },
    {
      "cell_type": "code",
      "source": [
        "coordenadas = (10, 20)\n",
        "color_rgb = (255, 128, 0)\n",
        "\n",
        "# Presentación de tuplas\n",
        "print(f\"Coordenadas: x={coordenadas[0]}, y={coordenadas[1]}\")\n",
        "print(f\"Color RGB: R={color_rgb[0]}, G={color_rgb[1]}, B={color_rgb[2]}\")\n",
        "\n",
        "# Salida:\n",
        "# Coordenadas: x=10, y=20\n",
        "# Color RGB: R=255, G=128, B=0"
      ],
      "metadata": {
        "colab": {
          "base_uri": "https://localhost:8080/"
        },
        "id": "fFhqwe0YM2uS",
        "outputId": "ca1531cc-e4f5-46f8-a772-17c9b512dd86"
      },
      "execution_count": null,
      "outputs": [
        {
          "output_type": "stream",
          "name": "stdout",
          "text": [
            "Coordenadas: x=10, y=20\n",
            "Color RGB: R=255, G=128, B=0\n"
          ]
        }
      ]
    },
    {
      "cell_type": "markdown",
      "source": [
        "#7. Conjuntos (Sets)"
      ],
      "metadata": {
        "id": "SFXZpGu7V5v4"
      }
    },
    {
      "cell_type": "code",
      "source": [
        "numeros_unicos = {1, 2, 3, 4, 5, 5, 4, 3, 2, 1}\n",
        "vocales = set(\"aeiou\")\n",
        "\n",
        "# Presentación de conjuntos\n",
        "print(f\"Números únicos: {numeros_unicos}\")\n",
        "print(f\"Vocales: {vocales}\")\n",
        "\n",
        "# Salida:\n",
        "# Números únicos: 1, 2, 3, 4, 5\n",
        "# Vocales: a, e, i, o, u"
      ],
      "metadata": {
        "colab": {
          "base_uri": "https://localhost:8080/"
        },
        "id": "9aiU3RGzNFJF",
        "outputId": "a8544931-a1e7-4651-f502-c86190549ec8"
      },
      "execution_count": null,
      "outputs": [
        {
          "output_type": "stream",
          "name": "stdout",
          "text": [
            "Números únicos: {1, 2, 3, 4, 5}\n",
            "Vocales: {'u', 'o', 'a', 'i', 'e'}\n"
          ]
        }
      ]
    },
    {
      "cell_type": "markdown",
      "source": [
        "#8. Variables Compuestas (Ejemplo de Datos Científicos)"
      ],
      "metadata": {
        "id": "wLagFgDOWKv0"
      }
    },
    {
      "cell_type": "code",
      "source": [
        "experimento = {\n",
        "    \"id\": \"EXP001\",\n",
        "    \"temperatura\": [20.5, 21.0, 20.8, 21.2, 20.9],\n",
        "    \"tiempo\": [0, 10, 20, 30, 40],\n",
        "    \"exitoso\": True\n",
        "}\n",
        "\n",
        "# Presentación de datos experimentales\n",
        "print(f\"Experimento ID: {experimento['id']}\")\n",
        "print(f\"Exitoso: {'Sí' if experimento['exitoso'] else 'No'}\")\n",
        "print(\"\\nMediciones:\")\n",
        "print(f\"{'Tiempo (min)':>12} | {'Temperatura (°C)':>16}\")\n",
        "print(\"-\" * 31)\n",
        "\n",
        "print(f\"{experimento['tiempo'][0]:12d} | {experimento['temperatura'][0]:16.1f}\")\n",
        "print(f\"{experimento['tiempo'][1]:12d} | {experimento['temperatura'][1]:16.1f}\")\n",
        "print(f\"{experimento['tiempo'][2]:12d} | {experimento['temperatura'][2]:16.1f}\")\n",
        "print(f\"{experimento['tiempo'][3]:12d} | {experimento['temperatura'][3]:16.1f}\")\n",
        "print(f\"{experimento['tiempo'][4]:12d} | {experimento['temperatura'][4]:16.1f}\")\n",
        "\n",
        "# Cálculo y presentación de estadísticas básicas\n",
        "temperaturas = experimento['temperatura']\n",
        "temp_promedio = sum(temperaturas) / len(temperaturas)\n",
        "temp_max = max(temperaturas)\n",
        "temp_min = min(temperaturas)\n",
        "\n",
        "print(f\"\\nTemperatura promedio: {temp_promedio:.2f}°C\")\n",
        "print(f\"Temperatura máxima: {temp_max:.1f}°C\")\n",
        "print(f\"Temperatura mínima: {temp_min:.1f}°C\")\n",
        "\n",
        "# Salida:\n",
        "# Experimento ID: EXP001\n",
        "# Exitoso: Sí\n",
        "#\n",
        "# Mediciones:\n",
        "#  Tiempo (min) | Temperatura (°C)\n",
        "# -------------------------------\n",
        "#            0 |             20.5\n",
        "#           10 |             21.0\n",
        "#           20 |             20.8\n",
        "#           30 |             21.2\n",
        "#           40 |             20.9\n",
        "#\n",
        "# Temperatura promedio: 20.88°C\n",
        "# Temperatura máxima: 21.2°C\n",
        "# Temperatura mínima: 20.5°C"
      ],
      "metadata": {
        "colab": {
          "base_uri": "https://localhost:8080/"
        },
        "id": "Bi0ioTk3Ni8z",
        "outputId": "1ca4f646-4734-40de-f9d9-f3a0953b43a2"
      },
      "execution_count": null,
      "outputs": [
        {
          "output_type": "stream",
          "name": "stdout",
          "text": [
            "Experimento ID: EXP001\n",
            "Exitoso: Sí\n",
            "\n",
            "Mediciones:\n",
            "Tiempo (min) | Temperatura (°C)\n",
            "-------------------------------\n",
            "           0 |             20.5\n",
            "          10 |             21.0\n",
            "          20 |             20.8\n",
            "          30 |             21.2\n",
            "          40 |             20.9\n",
            "\n",
            "Temperatura promedio: 20.88°C\n",
            "Temperatura máxima: 21.2°C\n",
            "Temperatura mínima: 20.5°C\n"
          ]
        }
      ]
    },
    {
      "cell_type": "markdown",
      "source": [
        "Estos ejemplos muestran cómo trabajar con diferentes tipos de variables en Python y presentarlas de manera clara y efectiva sin el uso de módulos externos. Son particularmente útiles en ciencia de datos para visualizar rápidamente información básica o cuando se trabaja en entornos con limitaciones de bibliotecas."
      ],
      "metadata": {
        "id": "-Z9MI6L3baY0"
      }
    },
    {
      "cell_type": "markdown",
      "source": [
        "# Variables, Tipos de Datos y Operadores en Python"
      ],
      "metadata": {
        "id": "0Ws8d9K7dCS_"
      }
    },
    {
      "cell_type": "markdown",
      "source": [
        "Este documento presenta ejemplos básicos de variables, tipos de datos y operadores en Python, con un enfoque en su aplicación en ciencia de datos."
      ],
      "metadata": {
        "id": "I9ec5xPRdXZE"
      }
    },
    {
      "cell_type": "code",
      "source": [
        "# 1. Variables y Tipos de Datos Básicos\n",
        "# Enteros (int)\n",
        "\n",
        "edad = 30\n",
        "cantidad = 1000000\n",
        "negativo = -5\n",
        "\n",
        "print(f\"Edad: {edad}, Tipo: {type(edad)}\")\n",
        "print(f\"Cantidad: {cantidad}, Tipo: {type(cantidad)}\")\n",
        "print(f\"Negativo: {negativo}, Tipo: {type(negativo)}\")"
      ],
      "metadata": {
        "colab": {
          "base_uri": "https://localhost:8080/"
        },
        "id": "dWUfMxACON_T",
        "outputId": "ea5c8820-ec16-45aa-bc1e-4390d7e09fb6"
      },
      "execution_count": null,
      "outputs": [
        {
          "output_type": "stream",
          "name": "stdout",
          "text": [
            "Edad: 30, Tipo: <class 'int'>\n",
            "Cantidad: 1000000, Tipo: <class 'int'>\n",
            "Negativo: -5, Tipo: <class 'int'>\n"
          ]
        }
      ]
    },
    {
      "cell_type": "code",
      "source": [
        "# Flotantes (float)\n",
        "pi = 3.14159\n",
        "temperatura = -2.5\n",
        "cientifica = 1.23e-4\n",
        "\n",
        "print(f\"Pi: {pi}, Tipo: {type(pi)}\")\n",
        "print(f\"Temperatura: {temperatura}, Tipo: {type(temperatura)}\")\n",
        "print(f\"Notación científica: {cientifica}, Tipo: {type(cientifica)}\")"
      ],
      "metadata": {
        "colab": {
          "base_uri": "https://localhost:8080/"
        },
        "id": "HprMeCD3OST6",
        "outputId": "5770a183-fd11-4b7d-a475-622f22c8eb04"
      },
      "execution_count": null,
      "outputs": [
        {
          "output_type": "stream",
          "name": "stdout",
          "text": [
            "Pi: 3.14159, Tipo: <class 'float'>\n",
            "Temperatura: -2.5, Tipo: <class 'float'>\n",
            "Notación científica: 0.000123, Tipo: <class 'float'>\n"
          ]
        }
      ]
    },
    {
      "cell_type": "code",
      "source": [
        "# Cadenas (str)\n",
        "nombre = \"Alice\"\n",
        "frase = 'Python es genial'\n",
        "multi_linea = \"\"\"Este es un\n",
        "texto de varias líneas\"\"\"\n",
        "\n",
        "print(f\"Nombre: {nombre}, Tipo: {type(nombre)}\")\n",
        "print(f\"Frase: {frase}, Tipo: {type(frase)}\")\n",
        "print(f\"Multi-línea: {multi_linea}, Tipo: {type(multi_linea)}\")"
      ],
      "metadata": {
        "colab": {
          "base_uri": "https://localhost:8080/"
        },
        "id": "WbeAywzmdjcR",
        "outputId": "d0968fa5-c6e9-4eba-da63-802beb19f4ed"
      },
      "execution_count": null,
      "outputs": [
        {
          "output_type": "stream",
          "name": "stdout",
          "text": [
            "Nombre: Alice, Tipo: <class 'str'>\n",
            "Frase: Python es genial, Tipo: <class 'str'>\n",
            "Multi-línea: Este es un\n",
            "texto de varias líneas, Tipo: <class 'str'>\n"
          ]
        }
      ]
    },
    {
      "cell_type": "code",
      "source": [
        "# Booleanos (bool)\n",
        "es_verdadero = True\n",
        "es_falso = False\n",
        "\n",
        "print(f\"Es verdadero: {es_verdadero}, Tipo: {type(es_verdadero)}\")\n",
        "print(f\"Es falso: {es_falso}, Tipo: {type(es_falso)}\")"
      ],
      "metadata": {
        "colab": {
          "base_uri": "https://localhost:8080/"
        },
        "id": "9nRnGlCCOVWh",
        "outputId": "0fd1c66a-99a7-4e86-df7e-e177b7b8b898"
      },
      "execution_count": null,
      "outputs": [
        {
          "output_type": "stream",
          "name": "stdout",
          "text": [
            "Es verdadero: True, Tipo: <class 'bool'>\n",
            "Es falso: False, Tipo: <class 'bool'>\n"
          ]
        }
      ]
    },
    {
      "cell_type": "code",
      "source": [
        "# Operadores Aritméticos\n",
        "a = 10\n",
        "b = 3\n",
        "\n",
        "suma = a + b\n",
        "resta = a - b\n",
        "multiplicacion = a * b\n",
        "division = a / b\n",
        "division_entera = a // b\n",
        "modulo = a % b\n",
        "potencia = a ** b\n",
        "\n",
        "print(f\"Suma: {suma}\")\n",
        "print(f\"Resta: {resta}\")\n",
        "print(f\"Multiplicación: {multiplicacion}\")\n",
        "print(f\"División: {division}\")\n",
        "print(f\"División entera: {division_entera}\")\n",
        "print(f\"Módulo: {modulo}\")\n",
        "print(f\"Potencia: {potencia}\")"
      ],
      "metadata": {
        "colab": {
          "base_uri": "https://localhost:8080/"
        },
        "id": "0ldKmhgtOZcL",
        "outputId": "ae8b18b6-0abc-4273-8bb6-28aec2121543"
      },
      "execution_count": null,
      "outputs": [
        {
          "output_type": "stream",
          "name": "stdout",
          "text": [
            "Suma: 13\n",
            "Resta: 7\n",
            "Multiplicación: 30\n",
            "División: 3.3333333333333335\n",
            "División entera: 3\n",
            "Módulo: 1\n",
            "Potencia: 1000\n"
          ]
        }
      ]
    },
    {
      "cell_type": "code",
      "source": [
        "# Operadores de Comparación\n",
        "x = 5\n",
        "y = 10\n",
        "\n",
        "igual = x == y\n",
        "diferente = x != y\n",
        "mayor = x > y\n",
        "menor = x < y\n",
        "mayor_igual = x >= y\n",
        "menor_igual = x <= y\n",
        "\n",
        "print(f\"Igual: {igual}\")\n",
        "print(f\"Diferente: {diferente}\")\n",
        "print(f\"Mayor: {mayor}\")\n",
        "print(f\"Menor: {menor}\")\n",
        "print(f\"Mayor o igual: {mayor_igual}\")\n",
        "print(f\"Menor o igual: {menor_igual}\")"
      ],
      "metadata": {
        "colab": {
          "base_uri": "https://localhost:8080/"
        },
        "id": "G-2WYd9FOgez",
        "outputId": "01380820-49ed-4be4-c023-66ffe8249d0d"
      },
      "execution_count": null,
      "outputs": [
        {
          "output_type": "stream",
          "name": "stdout",
          "text": [
            "Igual: False\n",
            "Diferente: True\n",
            "Mayor: False\n",
            "Menor: True\n",
            "Mayor o igual: False\n",
            "Menor o igual: True\n"
          ]
        }
      ]
    },
    {
      "cell_type": "code",
      "source": [
        "# Operadores Lógicos\n",
        "p = True\n",
        "q = False\n",
        "\n",
        "and_logico = p and q\n",
        "or_logico = p or q\n",
        "not_logico = not p\n",
        "\n",
        "print(f\"AND lógico: {and_logico}\")\n",
        "print(f\"OR lógico: {or_logico}\")\n",
        "print(f\"NOT lógico: {not_logico}\")"
      ],
      "metadata": {
        "colab": {
          "base_uri": "https://localhost:8080/"
        },
        "id": "uDy3NAaJOlru",
        "outputId": "39417063-7d64-4eeb-d7e9-dff04a3b5c6e"
      },
      "execution_count": null,
      "outputs": [
        {
          "output_type": "stream",
          "name": "stdout",
          "text": [
            "AND lógico: False\n",
            "OR lógico: True\n",
            "NOT lógico: False\n"
          ]
        }
      ]
    },
    {
      "cell_type": "code",
      "source": [
        "# Listas\n",
        "numeros = [1, 2, 3, 4, 5]\n",
        "mixta = [1, \"dos\", 3.0, [4, 5]]\n",
        "\n",
        "print(f\"Lista de números: {numeros}, Tipo: {type(numeros)}\")\n",
        "print(f\"Lista mixta: {mixta}, Tipo: {type(mixta)}\")\n",
        "\n",
        "# Operaciones con listas\n",
        "print(f\"Primer elemento: {numeros[0]}\")\n",
        "print(f\"Último elemento: {numeros[-1]}\")\n",
        "print(f\"Sublista: {numeros[1:3]}\")\n",
        "numeros.append(6)\n",
        "print(f\"Después de append: {numeros}\")"
      ],
      "metadata": {
        "colab": {
          "base_uri": "https://localhost:8080/"
        },
        "id": "HZZ4MLb7OoQb",
        "outputId": "36114ea3-69b1-478a-8e79-17297afe511c"
      },
      "execution_count": null,
      "outputs": [
        {
          "output_type": "stream",
          "name": "stdout",
          "text": [
            "Lista de números: [1, 2, 3, 4, 5], Tipo: <class 'list'>\n",
            "Lista mixta: [1, 'dos', 3.0, [4, 5]], Tipo: <class 'list'>\n",
            "Primer elemento: 1\n",
            "Último elemento: 5\n",
            "Sublista: [2, 3]\n",
            "Después de append: [1, 2, 3, 4, 5, 6]\n"
          ]
        }
      ]
    },
    {
      "cell_type": "code",
      "source": [
        "# Tuplas\n",
        "coordenadas = (10, 20)\n",
        "punto_3d = (1, 2, 3)\n",
        "\n",
        "print(f\"Coordenadas: {coordenadas}, Tipo: {type(coordenadas)}\")\n",
        "print(f\"Punto 3D: {punto_3d}, Tipo: {type(punto_3d)}\")\n",
        "\n",
        "# Operaciones con tuplas\n",
        "print(f\"Primera coordenada: {coordenadas[0]}\")\n",
        "print(f\"Últimas dos coordenadas de punto 3D: {punto_3d[1:]}\")"
      ],
      "metadata": {
        "colab": {
          "base_uri": "https://localhost:8080/"
        },
        "id": "jTibOI6LOqaO",
        "outputId": "9f8271be-8d19-443e-c96f-bd86f1dde4aa"
      },
      "execution_count": null,
      "outputs": [
        {
          "output_type": "stream",
          "name": "stdout",
          "text": [
            "Coordenadas: (10, 20), Tipo: <class 'tuple'>\n",
            "Punto 3D: (1, 2, 3), Tipo: <class 'tuple'>\n",
            "Primera coordenada: 10\n",
            "Últimas dos coordenadas de punto 3D: (2, 3)\n"
          ]
        }
      ]
    },
    {
      "cell_type": "code",
      "source": [
        "# Diccionarios\n",
        "persona = {\"nombre\": \"Bob\", \"edad\": 30, \"ciudad\": \"Nueva York\"}\n",
        "config = {\"debug\": True, \"max_conexiones\": 100}\n",
        "\n",
        "print(f\"Persona: {persona}, Tipo: {type(persona)}\")\n",
        "print(f\"Configuración: {config}, Tipo: {type(config)}\")\n",
        "\n",
        "# Operaciones con diccionarios\n",
        "print(f\"Nombre: {persona['nombre']}\")\n",
        "persona['profesion'] = 'Ingeniero'\n",
        "print(f\"Después de añadir profesión: {persona}\")"
      ],
      "metadata": {
        "colab": {
          "base_uri": "https://localhost:8080/"
        },
        "id": "oEZ8EXi9O-I6",
        "outputId": "36df1d3a-aad0-4768-93d6-35fe4b6b129d"
      },
      "execution_count": null,
      "outputs": [
        {
          "output_type": "stream",
          "name": "stdout",
          "text": [
            "Persona: {'nombre': 'Bob', 'edad': 30, 'ciudad': 'Nueva York'}, Tipo: <class 'dict'>\n",
            "Configuración: {'debug': True, 'max_conexiones': 100}, Tipo: <class 'dict'>\n",
            "Nombre: Bob\n",
            "Después de añadir profesión: {'nombre': 'Bob', 'edad': 30, 'ciudad': 'Nueva York', 'profesion': 'Ingeniero'}\n"
          ]
        }
      ]
    },
    {
      "cell_type": "code",
      "source": [
        "# Conversión entre Tipos de Datos\n",
        "# Conversión a int\n",
        "entero_de_float = int(3.14)\n",
        "entero_de_string = int(\"100\")\n",
        "\n",
        "# Conversión a float\n",
        "float_de_int = float(5)\n",
        "float_de_string = float(\"3.14\")\n",
        "\n",
        "# Conversión a string\n",
        "string_de_int = str(42)\n",
        "string_de_float = str(2.718)\n",
        "\n",
        "# Conversión a lista\n",
        "lista_de_tupla = list((1, 2, 3))\n",
        "lista_de_string = list(\"Python\")\n",
        "\n",
        "print(f\"Entero de float: {entero_de_float}\")\n",
        "print(f\"Entero de string: {entero_de_string}\")\n",
        "print(f\"Float de int: {float_de_int}\")\n",
        "print(f\"Float de string: {float_de_string}\")\n",
        "print(f\"String de int: {string_de_int}\")\n",
        "print(f\"String de float: {string_de_float}\")\n",
        "print(f\"Lista de tupla: {lista_de_tupla}\")\n",
        "print(f\"Lista de string: {lista_de_string}\")"
      ],
      "metadata": {
        "colab": {
          "base_uri": "https://localhost:8080/"
        },
        "id": "tAQo-mQRPAv0",
        "outputId": "723d0a02-6382-4041-cacc-1b483b72d403"
      },
      "execution_count": null,
      "outputs": [
        {
          "output_type": "stream",
          "name": "stdout",
          "text": [
            "Entero de float: 3\n",
            "Entero de string: 100\n",
            "Float de int: 5.0\n",
            "Float de string: 3.14\n",
            "String de int: 42\n",
            "String de float: 2.718\n",
            "Lista de tupla: [1, 2, 3]\n",
            "Lista de string: ['P', 'y', 't', 'h', 'o', 'n']\n"
          ]
        }
      ]
    },
    {
      "cell_type": "markdown",
      "source": [
        "# Ejemplo Práctico: Análisis Básico de Datos"
      ],
      "metadata": {
        "id": "B3uTDqUJd8tw"
      }
    },
    {
      "cell_type": "code",
      "source": [
        "# Datos de ventas mensuales\n",
        "ventas = [100, 150, 200, 80, 120, 190, 210, 170, 160, 200, 230, 180]\n",
        "\n",
        "# Cálculos básicos\n",
        "total_ventas = sum(ventas)\n",
        "promedio_ventas = total_ventas / len(ventas)\n",
        "venta_maxima = max(ventas)\n",
        "venta_minima = min(ventas)\n",
        "\n",
        "print(f\"Total de ventas: ${total_ventas}\")\n",
        "print(f\"Promedio de ventas: ${promedio_ventas:.2f}\")\n",
        "print(f\"Venta máxima: ${venta_maxima}\")\n",
        "print(f\"Venta mínima: ${venta_minima}\")\n",
        "\n",
        "# Análisis de tendencia\n",
        "tendencia_positiva = ventas[-1] > ventas[0]\n",
        "print(f\"¿Tendencia positiva? {'Sí' if tendencia_positiva else 'No'}\")\n",
        "\n",
        "# Categorización de meses\n",
        "meses_buenos = [venta for venta in ventas if venta > promedio_ventas]\n",
        "print(f\"Número de meses buenos: {len(meses_buenos)}\")\n",
        "\n",
        "# Resumen en diccionario\n",
        "resumen = {\n",
        "    \"total\": total_ventas,\n",
        "    \"promedio\": promedio_ventas,\n",
        "    \"maximo\": venta_maxima,\n",
        "    \"minimo\": venta_minima,\n",
        "    \"meses_buenos\": len(meses_buenos)\n",
        "}\n",
        "\n",
        "print(\"\\nResumen de ventas:\")\n",
        "\n",
        "print(f\"  {list(resumen.keys())[0]}: {resumen['total']}\")\n",
        "print(f\"  {list(resumen.keys())[1]}: {resumen['promedio']}\")\n",
        "print(f\"  {list(resumen.keys())[2]}: {resumen['maximo']}\")\n",
        "print(f\"  {list(resumen.keys())[3]}: {resumen['minimo']}\")\n",
        "print(f\"  {list(resumen.keys())[4]}: {resumen['meses_buenos']}\")\n"
      ],
      "metadata": {
        "colab": {
          "base_uri": "https://localhost:8080/"
        },
        "id": "z1yKzAdQPSQr",
        "outputId": "603a32c9-f9de-4e24-d4aa-c7c60f4262ea"
      },
      "execution_count": null,
      "outputs": [
        {
          "output_type": "stream",
          "name": "stdout",
          "text": [
            "Total de ventas: $1990\n",
            "Promedio de ventas: $165.83\n",
            "Venta máxima: $230\n",
            "Venta mínima: $80\n",
            "¿Tendencia positiva? Sí\n",
            "Número de meses buenos: 7\n",
            "\n",
            "Resumen de ventas:\n",
            "  total: 1990\n",
            "  promedio: 165.83333333333334\n",
            "  maximo: 230\n",
            "  minimo: 80\n",
            "  meses_buenos: 7\n"
          ]
        }
      ]
    },
    {
      "cell_type": "code",
      "source": [],
      "metadata": {
        "id": "FMSz54hsQsUc"
      },
      "execution_count": null,
      "outputs": []
    }
  ]
}